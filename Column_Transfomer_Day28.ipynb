{
 "cells": [
  {
   "cell_type": "code",
   "execution_count": 1,
   "id": "a9053f38",
   "metadata": {},
   "outputs": [],
   "source": [
    "import pandas as pd\n",
    "import numpy as np"
   ]
  },
  {
   "cell_type": "code",
   "execution_count": 2,
   "id": "e2feb065",
   "metadata": {},
   "outputs": [],
   "source": [
    "from sklearn.impute import SimpleImputer\n",
    "from sklearn.preprocessing import OneHotEncoder\n",
    "from sklearn.preprocessing import OrdinalEncoder"
   ]
  },
  {
   "cell_type": "code",
   "execution_count": 3,
   "id": "5c133ea4",
   "metadata": {},
   "outputs": [
    {
     "data": {
      "text/html": [
       "<div>\n",
       "<style scoped>\n",
       "    .dataframe tbody tr th:only-of-type {\n",
       "        vertical-align: middle;\n",
       "    }\n",
       "\n",
       "    .dataframe tbody tr th {\n",
       "        vertical-align: top;\n",
       "    }\n",
       "\n",
       "    .dataframe thead th {\n",
       "        text-align: right;\n",
       "    }\n",
       "</style>\n",
       "<table border=\"1\" class=\"dataframe\">\n",
       "  <thead>\n",
       "    <tr style=\"text-align: right;\">\n",
       "      <th></th>\n",
       "      <th>age</th>\n",
       "      <th>gender</th>\n",
       "      <th>fever</th>\n",
       "      <th>cough</th>\n",
       "      <th>city</th>\n",
       "      <th>has_covid</th>\n",
       "    </tr>\n",
       "  </thead>\n",
       "  <tbody>\n",
       "    <tr>\n",
       "      <th>0</th>\n",
       "      <td>60</td>\n",
       "      <td>Male</td>\n",
       "      <td>103.0</td>\n",
       "      <td>Mild</td>\n",
       "      <td>Kolkata</td>\n",
       "      <td>No</td>\n",
       "    </tr>\n",
       "    <tr>\n",
       "      <th>1</th>\n",
       "      <td>27</td>\n",
       "      <td>Male</td>\n",
       "      <td>100.0</td>\n",
       "      <td>Mild</td>\n",
       "      <td>Delhi</td>\n",
       "      <td>Yes</td>\n",
       "    </tr>\n",
       "    <tr>\n",
       "      <th>2</th>\n",
       "      <td>42</td>\n",
       "      <td>Male</td>\n",
       "      <td>101.0</td>\n",
       "      <td>Mild</td>\n",
       "      <td>Delhi</td>\n",
       "      <td>No</td>\n",
       "    </tr>\n",
       "    <tr>\n",
       "      <th>3</th>\n",
       "      <td>31</td>\n",
       "      <td>Female</td>\n",
       "      <td>98.0</td>\n",
       "      <td>Mild</td>\n",
       "      <td>Kolkata</td>\n",
       "      <td>No</td>\n",
       "    </tr>\n",
       "    <tr>\n",
       "      <th>4</th>\n",
       "      <td>65</td>\n",
       "      <td>Female</td>\n",
       "      <td>101.0</td>\n",
       "      <td>Mild</td>\n",
       "      <td>Mumbai</td>\n",
       "      <td>No</td>\n",
       "    </tr>\n",
       "  </tbody>\n",
       "</table>\n",
       "</div>"
      ],
      "text/plain": [
       "   age  gender  fever cough     city has_covid\n",
       "0   60    Male  103.0  Mild  Kolkata        No\n",
       "1   27    Male  100.0  Mild    Delhi       Yes\n",
       "2   42    Male  101.0  Mild    Delhi        No\n",
       "3   31  Female   98.0  Mild  Kolkata        No\n",
       "4   65  Female  101.0  Mild   Mumbai        No"
      ]
     },
     "execution_count": 3,
     "metadata": {},
     "output_type": "execute_result"
    }
   ],
   "source": [
    "df = pd.read_csv('Datasets/covid_toy.csv')\n",
    "df.head()"
   ]
  },
  {
   "cell_type": "code",
   "execution_count": 4,
   "id": "f76e5426",
   "metadata": {},
   "outputs": [
    {
     "data": {
      "text/plain": [
       "Mild      62\n",
       "Strong    38\n",
       "Name: cough, dtype: int64"
      ]
     },
     "execution_count": 4,
     "metadata": {},
     "output_type": "execute_result"
    }
   ],
   "source": [
    "df['cough'].value_counts()"
   ]
  },
  {
   "cell_type": "code",
   "execution_count": 5,
   "id": "656b047a",
   "metadata": {},
   "outputs": [
    {
     "data": {
      "text/plain": [
       "Kolkata      32\n",
       "Bangalore    30\n",
       "Delhi        22\n",
       "Mumbai       16\n",
       "Name: city, dtype: int64"
      ]
     },
     "execution_count": 5,
     "metadata": {},
     "output_type": "execute_result"
    }
   ],
   "source": [
    "df['city'].value_counts()"
   ]
  },
  {
   "cell_type": "code",
   "execution_count": 6,
   "id": "9142df61",
   "metadata": {},
   "outputs": [
    {
     "data": {
      "text/plain": [
       "age           0\n",
       "gender        0\n",
       "fever        10\n",
       "cough         0\n",
       "city          0\n",
       "has_covid     0\n",
       "dtype: int64"
      ]
     },
     "execution_count": 6,
     "metadata": {},
     "output_type": "execute_result"
    }
   ],
   "source": [
    "df.isna().sum()"
   ]
  },
  {
   "cell_type": "code",
   "execution_count": 7,
   "id": "c16d1a01",
   "metadata": {},
   "outputs": [],
   "source": [
    "from sklearn.model_selection import train_test_split\n",
    "X_train, X_test,y_trian,y_test = train_test_split(df.drop(columns=['has_covid'],axis=1),df['has_covid'],test_size=0.2,random_state=0,shuffle=True)"
   ]
  },
  {
   "cell_type": "code",
   "execution_count": 8,
   "id": "21039f1f",
   "metadata": {},
   "outputs": [
    {
     "data": {
      "text/html": [
       "<div>\n",
       "<style scoped>\n",
       "    .dataframe tbody tr th:only-of-type {\n",
       "        vertical-align: middle;\n",
       "    }\n",
       "\n",
       "    .dataframe tbody tr th {\n",
       "        vertical-align: top;\n",
       "    }\n",
       "\n",
       "    .dataframe thead th {\n",
       "        text-align: right;\n",
       "    }\n",
       "</style>\n",
       "<table border=\"1\" class=\"dataframe\">\n",
       "  <thead>\n",
       "    <tr style=\"text-align: right;\">\n",
       "      <th></th>\n",
       "      <th>age</th>\n",
       "      <th>gender</th>\n",
       "      <th>fever</th>\n",
       "      <th>cough</th>\n",
       "      <th>city</th>\n",
       "    </tr>\n",
       "  </thead>\n",
       "  <tbody>\n",
       "    <tr>\n",
       "      <th>43</th>\n",
       "      <td>22</td>\n",
       "      <td>Female</td>\n",
       "      <td>99.0</td>\n",
       "      <td>Mild</td>\n",
       "      <td>Bangalore</td>\n",
       "    </tr>\n",
       "    <tr>\n",
       "      <th>62</th>\n",
       "      <td>56</td>\n",
       "      <td>Female</td>\n",
       "      <td>104.0</td>\n",
       "      <td>Strong</td>\n",
       "      <td>Bangalore</td>\n",
       "    </tr>\n",
       "    <tr>\n",
       "      <th>3</th>\n",
       "      <td>31</td>\n",
       "      <td>Female</td>\n",
       "      <td>98.0</td>\n",
       "      <td>Mild</td>\n",
       "      <td>Kolkata</td>\n",
       "    </tr>\n",
       "    <tr>\n",
       "      <th>71</th>\n",
       "      <td>75</td>\n",
       "      <td>Female</td>\n",
       "      <td>104.0</td>\n",
       "      <td>Strong</td>\n",
       "      <td>Delhi</td>\n",
       "    </tr>\n",
       "    <tr>\n",
       "      <th>45</th>\n",
       "      <td>72</td>\n",
       "      <td>Male</td>\n",
       "      <td>99.0</td>\n",
       "      <td>Mild</td>\n",
       "      <td>Bangalore</td>\n",
       "    </tr>\n",
       "    <tr>\n",
       "      <th>...</th>\n",
       "      <td>...</td>\n",
       "      <td>...</td>\n",
       "      <td>...</td>\n",
       "      <td>...</td>\n",
       "      <td>...</td>\n",
       "    </tr>\n",
       "    <tr>\n",
       "      <th>96</th>\n",
       "      <td>51</td>\n",
       "      <td>Female</td>\n",
       "      <td>101.0</td>\n",
       "      <td>Strong</td>\n",
       "      <td>Kolkata</td>\n",
       "    </tr>\n",
       "    <tr>\n",
       "      <th>67</th>\n",
       "      <td>65</td>\n",
       "      <td>Male</td>\n",
       "      <td>99.0</td>\n",
       "      <td>Mild</td>\n",
       "      <td>Bangalore</td>\n",
       "    </tr>\n",
       "    <tr>\n",
       "      <th>64</th>\n",
       "      <td>42</td>\n",
       "      <td>Male</td>\n",
       "      <td>104.0</td>\n",
       "      <td>Mild</td>\n",
       "      <td>Mumbai</td>\n",
       "    </tr>\n",
       "    <tr>\n",
       "      <th>47</th>\n",
       "      <td>18</td>\n",
       "      <td>Female</td>\n",
       "      <td>104.0</td>\n",
       "      <td>Mild</td>\n",
       "      <td>Bangalore</td>\n",
       "    </tr>\n",
       "    <tr>\n",
       "      <th>44</th>\n",
       "      <td>20</td>\n",
       "      <td>Male</td>\n",
       "      <td>102.0</td>\n",
       "      <td>Strong</td>\n",
       "      <td>Delhi</td>\n",
       "    </tr>\n",
       "  </tbody>\n",
       "</table>\n",
       "<p>80 rows × 5 columns</p>\n",
       "</div>"
      ],
      "text/plain": [
       "    age  gender  fever   cough       city\n",
       "43   22  Female   99.0    Mild  Bangalore\n",
       "62   56  Female  104.0  Strong  Bangalore\n",
       "3    31  Female   98.0    Mild    Kolkata\n",
       "71   75  Female  104.0  Strong      Delhi\n",
       "45   72    Male   99.0    Mild  Bangalore\n",
       "..  ...     ...    ...     ...        ...\n",
       "96   51  Female  101.0  Strong    Kolkata\n",
       "67   65    Male   99.0    Mild  Bangalore\n",
       "64   42    Male  104.0    Mild     Mumbai\n",
       "47   18  Female  104.0    Mild  Bangalore\n",
       "44   20    Male  102.0  Strong      Delhi\n",
       "\n",
       "[80 rows x 5 columns]"
      ]
     },
     "execution_count": 8,
     "metadata": {},
     "output_type": "execute_result"
    }
   ],
   "source": [
    "X_train"
   ]
  },
  {
   "cell_type": "markdown",
   "id": "f80c91da",
   "metadata": {},
   "source": [
    "## Manually Handling the Features"
   ]
  },
  {
   "cell_type": "code",
   "execution_count": null,
   "id": "cab70f87",
   "metadata": {},
   "outputs": [],
   "source": [
    "si = SimpleImputer()\n",
    "X_train_fever = si.fit_transform(X_train[['fever']])\n",
    "X_test_fever = si.transform(X_test[['fever']])\n",
    "X_train_fever.shape"
   ]
  },
  {
   "cell_type": "markdown",
   "id": "4922b7de",
   "metadata": {},
   "source": [
    "## Handling Nominal columns"
   ]
  },
  {
   "cell_type": "code",
   "execution_count": null,
   "id": "92748486",
   "metadata": {},
   "outputs": [],
   "source": [
    "df.head()"
   ]
  },
  {
   "cell_type": "code",
   "execution_count": null,
   "id": "323953ce",
   "metadata": {},
   "outputs": [],
   "source": [
    "#gender, city \n",
    "ohe = OneHotEncoder(sparse_output=False,drop='first',dtype=np.int32)\n",
    "ohe.fit(X_train[['gender']])\n",
    "X_train_gender = ohe.transform(X_train[['gender']])\n",
    "X_test_gender = ohe.transform(X_test[['gender']])\n",
    "X_train_gender"
   ]
  },
  {
   "cell_type": "code",
   "execution_count": null,
   "id": "f6c67409",
   "metadata": {},
   "outputs": [],
   "source": [
    "ohe.categories_"
   ]
  },
  {
   "cell_type": "code",
   "execution_count": null,
   "id": "88646eaf",
   "metadata": {},
   "outputs": [],
   "source": [
    "ohe.fit(X_train[['city']])\n",
    "X_train_city = ohe.transform(X_train[['city']])\n",
    "X_test_city = ohe.transform(X_test[['city']])\n",
    "X_train_city"
   ]
  },
  {
   "cell_type": "code",
   "execution_count": null,
   "id": "5f8c8135",
   "metadata": {},
   "outputs": [],
   "source": [
    "ohe.categories_"
   ]
  },
  {
   "cell_type": "markdown",
   "id": "691386d5",
   "metadata": {},
   "source": [
    "# Ordinal Encoding "
   ]
  },
  {
   "cell_type": "code",
   "execution_count": null,
   "id": "90cbb808",
   "metadata": {},
   "outputs": [],
   "source": [
    "df['cough'].value_counts()\n"
   ]
  },
  {
   "cell_type": "code",
   "execution_count": null,
   "id": "feb9f1dc",
   "metadata": {},
   "outputs": [],
   "source": [
    "ode = OrdinalEncoder(categories=[['Mild','Strong']],dtype=np.int32)"
   ]
  },
  {
   "cell_type": "code",
   "execution_count": null,
   "id": "ca5b1d3b",
   "metadata": {},
   "outputs": [],
   "source": [
    "ode.fit(X_train[['cough']])\n",
    "X_train_cough = ode.transform(X_train[['cough']])\n",
    "X_test_cough = ode.transform(X_test[['cough']])\n",
    "X_test_cough"
   ]
  },
  {
   "cell_type": "code",
   "execution_count": null,
   "id": "86aa1f1c",
   "metadata": {},
   "outputs": [],
   "source": [
    "ode.categories_"
   ]
  },
  {
   "cell_type": "code",
   "execution_count": null,
   "id": "11a0d181",
   "metadata": {},
   "outputs": [],
   "source": [
    "X_train['gender'] = X_train_gender"
   ]
  },
  {
   "cell_type": "code",
   "execution_count": null,
   "id": "0d3e0025",
   "metadata": {},
   "outputs": [],
   "source": [
    "#X_train['city'] = X_train_city\n",
    "#X_test['city'] = X_test_city\n",
    "X_test['gender'] = X_test_gender\n",
    "X_train['cough'] = X_train_cough\n",
    "X_test['cough'] = X_test_cough"
   ]
  },
  {
   "cell_type": "code",
   "execution_count": null,
   "id": "cba37cb1",
   "metadata": {},
   "outputs": [],
   "source": [
    "X_train"
   ]
  },
  {
   "cell_type": "code",
   "execution_count": null,
   "id": "b5813fba",
   "metadata": {},
   "outputs": [],
   "source": [
    "new_dframe = pd.DataFrame(np.hstack((X_train.drop(['city'],axis=1).values,X_train_city)),columns=['age','gender','fever','cough','First_city','second_city','Third_city'])\n",
    "new_dframe"
   ]
  },
  {
   "cell_type": "markdown",
   "id": "5e19ace1",
   "metadata": {},
   "source": [
    "## All stuff using Column Tranformer "
   ]
  },
  {
   "cell_type": "code",
   "execution_count": 16,
   "id": "1a5262ea",
   "metadata": {},
   "outputs": [],
   "source": [
    "from sklearn.compose import ColumnTransformer"
   ]
  },
  {
   "cell_type": "code",
   "execution_count": 17,
   "id": "d14d63cb",
   "metadata": {},
   "outputs": [],
   "source": [
    "transformer = ColumnTransformer(transformers=[\n",
    "    ('tnf1',SimpleImputer(),['fever']),\n",
    "    ('tnf2',OrdinalEncoder(categories=[['Mild','Strong']]),['cough']),\n",
    "    ('tnf3',OneHotEncoder(sparse_output=False,drop='first'),['gender','city'])\n",
    "],remainder='passthrough')"
   ]
  },
  {
   "cell_type": "code",
   "execution_count": 20,
   "id": "02811c1a",
   "metadata": {},
   "outputs": [],
   "source": [
    "new_df = pd.DataFrame(transformer.fit_transform(X_train))"
   ]
  },
  {
   "cell_type": "code",
   "execution_count": 21,
   "id": "b9eb0c9f",
   "metadata": {},
   "outputs": [
    {
     "data": {
      "text/html": [
       "<div>\n",
       "<style scoped>\n",
       "    .dataframe tbody tr th:only-of-type {\n",
       "        vertical-align: middle;\n",
       "    }\n",
       "\n",
       "    .dataframe tbody tr th {\n",
       "        vertical-align: top;\n",
       "    }\n",
       "\n",
       "    .dataframe thead th {\n",
       "        text-align: right;\n",
       "    }\n",
       "</style>\n",
       "<table border=\"1\" class=\"dataframe\">\n",
       "  <thead>\n",
       "    <tr style=\"text-align: right;\">\n",
       "      <th></th>\n",
       "      <th>0</th>\n",
       "      <th>1</th>\n",
       "      <th>2</th>\n",
       "      <th>3</th>\n",
       "      <th>4</th>\n",
       "      <th>5</th>\n",
       "      <th>6</th>\n",
       "    </tr>\n",
       "  </thead>\n",
       "  <tbody>\n",
       "    <tr>\n",
       "      <th>0</th>\n",
       "      <td>99.0</td>\n",
       "      <td>0.0</td>\n",
       "      <td>0.0</td>\n",
       "      <td>0.0</td>\n",
       "      <td>0.0</td>\n",
       "      <td>0.0</td>\n",
       "      <td>22.0</td>\n",
       "    </tr>\n",
       "    <tr>\n",
       "      <th>1</th>\n",
       "      <td>104.0</td>\n",
       "      <td>1.0</td>\n",
       "      <td>0.0</td>\n",
       "      <td>0.0</td>\n",
       "      <td>0.0</td>\n",
       "      <td>0.0</td>\n",
       "      <td>56.0</td>\n",
       "    </tr>\n",
       "    <tr>\n",
       "      <th>2</th>\n",
       "      <td>98.0</td>\n",
       "      <td>0.0</td>\n",
       "      <td>0.0</td>\n",
       "      <td>0.0</td>\n",
       "      <td>1.0</td>\n",
       "      <td>0.0</td>\n",
       "      <td>31.0</td>\n",
       "    </tr>\n",
       "    <tr>\n",
       "      <th>3</th>\n",
       "      <td>104.0</td>\n",
       "      <td>1.0</td>\n",
       "      <td>0.0</td>\n",
       "      <td>1.0</td>\n",
       "      <td>0.0</td>\n",
       "      <td>0.0</td>\n",
       "      <td>75.0</td>\n",
       "    </tr>\n",
       "    <tr>\n",
       "      <th>4</th>\n",
       "      <td>99.0</td>\n",
       "      <td>0.0</td>\n",
       "      <td>1.0</td>\n",
       "      <td>0.0</td>\n",
       "      <td>0.0</td>\n",
       "      <td>0.0</td>\n",
       "      <td>72.0</td>\n",
       "    </tr>\n",
       "    <tr>\n",
       "      <th>...</th>\n",
       "      <td>...</td>\n",
       "      <td>...</td>\n",
       "      <td>...</td>\n",
       "      <td>...</td>\n",
       "      <td>...</td>\n",
       "      <td>...</td>\n",
       "      <td>...</td>\n",
       "    </tr>\n",
       "    <tr>\n",
       "      <th>75</th>\n",
       "      <td>101.0</td>\n",
       "      <td>1.0</td>\n",
       "      <td>0.0</td>\n",
       "      <td>0.0</td>\n",
       "      <td>1.0</td>\n",
       "      <td>0.0</td>\n",
       "      <td>51.0</td>\n",
       "    </tr>\n",
       "    <tr>\n",
       "      <th>76</th>\n",
       "      <td>99.0</td>\n",
       "      <td>0.0</td>\n",
       "      <td>1.0</td>\n",
       "      <td>0.0</td>\n",
       "      <td>0.0</td>\n",
       "      <td>0.0</td>\n",
       "      <td>65.0</td>\n",
       "    </tr>\n",
       "    <tr>\n",
       "      <th>77</th>\n",
       "      <td>104.0</td>\n",
       "      <td>0.0</td>\n",
       "      <td>1.0</td>\n",
       "      <td>0.0</td>\n",
       "      <td>0.0</td>\n",
       "      <td>1.0</td>\n",
       "      <td>42.0</td>\n",
       "    </tr>\n",
       "    <tr>\n",
       "      <th>78</th>\n",
       "      <td>104.0</td>\n",
       "      <td>0.0</td>\n",
       "      <td>0.0</td>\n",
       "      <td>0.0</td>\n",
       "      <td>0.0</td>\n",
       "      <td>0.0</td>\n",
       "      <td>18.0</td>\n",
       "    </tr>\n",
       "    <tr>\n",
       "      <th>79</th>\n",
       "      <td>102.0</td>\n",
       "      <td>1.0</td>\n",
       "      <td>1.0</td>\n",
       "      <td>1.0</td>\n",
       "      <td>0.0</td>\n",
       "      <td>0.0</td>\n",
       "      <td>20.0</td>\n",
       "    </tr>\n",
       "  </tbody>\n",
       "</table>\n",
       "<p>80 rows × 7 columns</p>\n",
       "</div>"
      ],
      "text/plain": [
       "        0    1    2    3    4    5     6\n",
       "0    99.0  0.0  0.0  0.0  0.0  0.0  22.0\n",
       "1   104.0  1.0  0.0  0.0  0.0  0.0  56.0\n",
       "2    98.0  0.0  0.0  0.0  1.0  0.0  31.0\n",
       "3   104.0  1.0  0.0  1.0  0.0  0.0  75.0\n",
       "4    99.0  0.0  1.0  0.0  0.0  0.0  72.0\n",
       "..    ...  ...  ...  ...  ...  ...   ...\n",
       "75  101.0  1.0  0.0  0.0  1.0  0.0  51.0\n",
       "76   99.0  0.0  1.0  0.0  0.0  0.0  65.0\n",
       "77  104.0  0.0  1.0  0.0  0.0  1.0  42.0\n",
       "78  104.0  0.0  0.0  0.0  0.0  0.0  18.0\n",
       "79  102.0  1.0  1.0  1.0  0.0  0.0  20.0\n",
       "\n",
       "[80 rows x 7 columns]"
      ]
     },
     "execution_count": 21,
     "metadata": {},
     "output_type": "execute_result"
    }
   ],
   "source": [
    "new_df"
   ]
  },
  {
   "cell_type": "code",
   "execution_count": null,
   "id": "32b7a042",
   "metadata": {},
   "outputs": [],
   "source": []
  }
 ],
 "metadata": {
  "kernelspec": {
   "display_name": "Python 3 (ipykernel)",
   "language": "python",
   "name": "python3"
  },
  "language_info": {
   "codemirror_mode": {
    "name": "ipython",
    "version": 3
   },
   "file_extension": ".py",
   "mimetype": "text/x-python",
   "name": "python",
   "nbconvert_exporter": "python",
   "pygments_lexer": "ipython3",
   "version": "3.9.13"
  }
 },
 "nbformat": 4,
 "nbformat_minor": 5
}
