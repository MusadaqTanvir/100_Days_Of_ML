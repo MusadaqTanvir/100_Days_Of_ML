{
 "cells": [
  {
   "cell_type": "code",
   "execution_count": 1,
   "id": "23827887",
   "metadata": {},
   "outputs": [],
   "source": [
    "import numpy as np\n",
    "import pandas as pd"
   ]
  },
  {
   "cell_type": "code",
   "execution_count": 2,
   "id": "ebb2a202",
   "metadata": {},
   "outputs": [],
   "source": [
    "mu_vec1 = np.array([0,0,0])\n",
    "cov_mat1 = np.array([[1,0,0],[0,1,0],[0,0,1]])"
   ]
  },
  {
   "cell_type": "code",
   "execution_count": 3,
   "id": "2fb92c75",
   "metadata": {},
   "outputs": [
    {
     "data": {
      "text/plain": [
       "array([0, 0, 0])"
      ]
     },
     "execution_count": 3,
     "metadata": {},
     "output_type": "execute_result"
    }
   ],
   "source": [
    "mu_vec1"
   ]
  },
  {
   "cell_type": "code",
   "execution_count": 4,
   "id": "b8436cac",
   "metadata": {},
   "outputs": [
    {
     "data": {
      "text/plain": [
       "array([[1, 0, 0],\n",
       "       [0, 1, 0],\n",
       "       [0, 0, 1]])"
      ]
     },
     "execution_count": 4,
     "metadata": {},
     "output_type": "execute_result"
    }
   ],
   "source": [
    "cov_mat1"
   ]
  },
  {
   "cell_type": "code",
   "execution_count": 5,
   "id": "5e4e2198",
   "metadata": {},
   "outputs": [
    {
     "data": {
      "text/plain": [
       "array([[ 0.59227819,  1.25024356,  1.90155193],\n",
       "       [ 0.01234344, -0.04492707, -1.65267749],\n",
       "       [ 0.17891993,  1.07105528, -0.36822368],\n",
       "       [-0.25529552,  2.18306242,  0.88441522],\n",
       "       [ 0.63032777, -0.92341553, -1.07194216],\n",
       "       [ 0.40885643,  0.95477209,  0.48084953],\n",
       "       [-0.85383762,  1.14936084,  0.58155167],\n",
       "       [-0.40615034,  0.29873208, -1.80814219],\n",
       "       [-0.74994345, -0.88466078, -0.47634336],\n",
       "       [ 1.84105274, -0.44635722, -1.19797615],\n",
       "       [ 1.11649851, -1.78648056, -0.71135393],\n",
       "       [ 1.06596559, -0.77162837, -0.40530669],\n",
       "       [-1.08058709, -2.16217266, -0.91760363],\n",
       "       [-0.79411837,  0.48044413,  0.14375673],\n",
       "       [ 0.76122052, -0.0193893 , -0.31986234],\n",
       "       [ 1.00725833,  1.01722923, -0.97867505],\n",
       "       [ 1.26606236, -0.20776539, -1.83524473],\n",
       "       [ 0.46005507, -0.87648263, -0.21619108],\n",
       "       [-1.123275  ,  0.6448232 , -0.02386324],\n",
       "       [ 0.67965222, -0.46964242, -1.65142365]])"
      ]
     },
     "execution_count": 5,
     "metadata": {},
     "output_type": "execute_result"
    }
   ],
   "source": [
    "class1_sample = np.random.multivariate_normal(mu_vec1, cov_mat1, 20)\n",
    "class1_sample"
   ]
  },
  {
   "cell_type": "code",
   "execution_count": null,
   "id": "412f757f",
   "metadata": {},
   "outputs": [],
   "source": []
  }
 ],
 "metadata": {
  "kernelspec": {
   "display_name": "Python 3 (ipykernel)",
   "language": "python",
   "name": "python3"
  },
  "language_info": {
   "codemirror_mode": {
    "name": "ipython",
    "version": 3
   },
   "file_extension": ".py",
   "mimetype": "text/x-python",
   "name": "python",
   "nbconvert_exporter": "python",
   "pygments_lexer": "ipython3",
   "version": "3.9.13"
  }
 },
 "nbformat": 4,
 "nbformat_minor": 5
}
